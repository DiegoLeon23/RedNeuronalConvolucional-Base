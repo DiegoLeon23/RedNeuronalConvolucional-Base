{
 "cells": [
  {
   "cell_type": "markdown",
   "metadata": {},
   "source": [
    "# REDES NEURONALES CONVOLUCIONALES - PASO A PASO"
   ]
  },
  {
   "cell_type": "markdown",
   "metadata": {},
   "source": [
    "## -------------------------------------------------------------------------------------------------------------\n",
    "## **PARTE I - CONSTRUCCION DE LA RED NEURONAL CONVOLUCIONAL**\n",
    "## ---------------------------------------------------------------------------------------------------------------"
   ]
  },
  {
   "cell_type": "code",
   "execution_count": 2,
   "metadata": {},
   "outputs": [],
   "source": [
    "# Parte 1 - Construir el modelo de CNN\n",
    "import os\n",
    "import warnings\n",
    "\n",
    "# Importar las librerías y paquetes\n",
    "from keras.models import Sequential     # Creamos una red paso a paso.\n",
    "from keras.layers import Conv2D         # Creamos capas de convolucion 2D.\n",
    "from keras.layers import MaxPooling2D   # Creamos capas de reduccion.\n",
    "from keras.layers import Flatten        # Aplanado u ordenamiento de los datos.\n",
    "from keras.layers import Dense          # Creamos la conexion entre las capas de redes totalmente conectadas. \n",
    "\n",
    "\n",
    "\n",
    "warnings.filterwarnings('ignore')"
   ]
  },
  {
   "cell_type": "code",
   "execution_count": 3,
   "metadata": {},
   "outputs": [],
   "source": [
    "os.chdir('D:\\DMC VIDEOS\\DEEP LEARNING INMERSION\\MOD1\\MATERIALES')"
   ]
  },
  {
   "cell_type": "code",
   "execution_count": 4,
   "metadata": {},
   "outputs": [],
   "source": [
    "# Inicializar la CNN / Constructor Sequential / Inicializacion de la Red Neuronal\n",
    "classifier = Sequential()"
   ]
  },
  {
   "cell_type": "code",
   "execution_count": 5,
   "metadata": {},
   "outputs": [],
   "source": [
    "# Paso 1 - Convolución\n",
    "# Añadimos una capa de convolucion\n",
    "# filters : Numeros de mapas de caracteristicas / Encontrar rasgos interesantes / Filtros .\n",
    "# kernel_size : Tamaño del filtro.\n",
    "# input_shape : Tamaño de las imagenes, tamaño de fila, columna y canales de color.\n",
    "# Por defecto es 128*128 y el canal.\n",
    "# activation : Funcion de activacion, no linealidad necesaria.\n",
    "classifier.add(Conv2D(filters = 32,kernel_size = (3, 3),\n",
    "                      input_shape = (64, 64, 3), \n",
    "                      activation = \"relu\")) # No Linealidad"
   ]
  },
  {
   "cell_type": "code",
   "execution_count": 6,
   "metadata": {},
   "outputs": [],
   "source": [
    "# Paso 2 - Max Pooling\n",
    "# Capa de reduccion de características, dimensiones y demás.\n",
    "classifier.add(MaxPooling2D(pool_size = (2,2)))"
   ]
  },
  {
   "cell_type": "code",
   "execution_count": 7,
   "metadata": {},
   "outputs": [],
   "source": [
    "# Paso 3 - Flattening\n",
    "classifier.add(Flatten())"
   ]
  },
  {
   "cell_type": "code",
   "execution_count": 8,
   "metadata": {},
   "outputs": [],
   "source": [
    "# Paso 4 - Full Connection\n",
    "# Ni demasiado pequeño ni grande, porque puede ser computacionalmente costoso.\n",
    "classifier.add(Dense(units = 128, activation = \"relu\")) # Comenzar con 56 -> oo\n",
    "classifier.add(Dense(units = 1, activation = \"sigmoid\")) # Capa de salida"
   ]
  },
  {
   "cell_type": "code",
   "execution_count": 9,
   "metadata": {},
   "outputs": [],
   "source": [
    "# Paso 5 - Compilar la CNN\n",
    "classifier.compile(optimizer = \"adam\", loss = \"binary_crossentropy\", metrics = [\"accuracy\"])"
   ]
  },
  {
   "cell_type": "code",
   "execution_count": 10,
   "metadata": {},
   "outputs": [
    {
     "name": "stdout",
     "output_type": "stream",
     "text": [
      "Model: \"sequential\"\n",
      "_________________________________________________________________\n",
      "Layer (type)                 Output Shape              Param #   \n",
      "=================================================================\n",
      "conv2d (Conv2D)              (None, 62, 62, 32)        896       \n",
      "_________________________________________________________________\n",
      "max_pooling2d (MaxPooling2D) (None, 31, 31, 32)        0         \n",
      "_________________________________________________________________\n",
      "flatten (Flatten)            (None, 30752)             0         \n",
      "_________________________________________________________________\n",
      "dense (Dense)                (None, 128)               3936384   \n",
      "_________________________________________________________________\n",
      "dense_1 (Dense)              (None, 1)                 129       \n",
      "=================================================================\n",
      "Total params: 3,937,409\n",
      "Trainable params: 3,937,409\n",
      "Non-trainable params: 0\n",
      "_________________________________________________________________\n"
     ]
    }
   ],
   "source": [
    "classifier.summary()"
   ]
  }
 ],
 "metadata": {
  "kernelspec": {
   "display_name": "Python 3",
   "language": "python",
   "name": "python3"
  },
  "language_info": {
   "codemirror_mode": {
    "name": "ipython",
    "version": 3
   },
   "file_extension": ".py",
   "mimetype": "text/x-python",
   "name": "python",
   "nbconvert_exporter": "python",
   "pygments_lexer": "ipython3",
   "version": "3.8.3"
  }
 },
 "nbformat": 4,
 "nbformat_minor": 4
}
